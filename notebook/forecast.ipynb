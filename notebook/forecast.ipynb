{
 "cells": [
  {
   "cell_type": "markdown",
   "metadata": {},
   "source": [
    "# Forecast Data\n",
    "\n",
    "Running env : Google Colab\n",
    "\n",
    "**Cara Penggunaan**\n",
    "\n",
    "1. Upload file hasil generate script ke env google colab<br>\n",
    "   ![upload](https://raw.githubusercontent.com/Hyuto/pkl-ivo/master/assets/upload.png)\n",
    "2. Ganti nilai dari variable `nama_file` menjadi nama file yang di upload"
   ]
  },
  {
   "cell_type": "code",
   "execution_count": null,
   "metadata": {},
   "outputs": [],
   "source": [
    "nama_file = \"NAMA-FILE-UPLOAD.csv\"\n",
    "path = f'/content/{nama_file}'"
   ]
  },
  {
   "cell_type": "markdown",
   "metadata": {},
   "source": [
    "3. Clone repo `pkl-ivo` dan setup environtment colab dengan run code berikut"
   ]
  },
  {
   "cell_type": "code",
   "execution_count": null,
   "metadata": {},
   "outputs": [],
   "source": [
    "!git clone https://github.com/Hyuto/pkl-ivo.git\n",
    "%cd pkl-ivo\n",
    "!pip -q install -r requirements.txt\n",
    "!pip -q install pystan==2.19.1.1\n",
    "!pip -q install prophet"
   ]
  },
  {
   "cell_type": "markdown",
   "metadata": {},
   "source": [
    "4. Run code berikut untuk melakukan forecasting terhadap data"
   ]
  },
  {
   "cell_type": "code",
   "execution_count": null,
   "metadata": {},
   "outputs": [],
   "source": [
    "!python forecast.py -p \"{path}\" -a --prophet --export"
   ]
  },
  {
   "cell_type": "markdown",
   "metadata": {},
   "source": [
    "5. Lihat pada folder `output` copy lalu paste nama folder yang akan di export ke dalam variable `project_name`<br>\n",
    "   ![project-dir](https://raw.githubusercontent.com/Hyuto/pkl-ivo/master/assets/project-dir.png)\n",
    "\n",
    "   Setelah itu run code dibawah untuk mengompress folder menjadi `zip`"
   ]
  },
  {
   "cell_type": "code",
   "execution_count": null,
   "metadata": {},
   "outputs": [],
   "source": [
    "project_name = 'FOLDER-NAME'\n",
    "project_dir = f'/content/pkl-ivo/output/{project_name}'\n",
    "\n",
    "!zip -r '/content/{project_name}.zip' '{project_dir}'"
   ]
  },
  {
   "cell_type": "markdown",
   "metadata": {},
   "source": [
    "6. Setelah itu akan terdapat file baru berformat `zip` yang dapat di download<br>\n",
    "   ![download](https://raw.githubusercontent.com/Hyuto/pkl-ivo/master/assets/download.png)"
   ]
  }
 ],
 "metadata": {
  "interpreter": {
   "hash": "85eb4c4ba32bdec42f2d50c396bd71cebc6009ec410a15bfcb1798863da8e958"
  },
  "kernelspec": {
   "display_name": "Python 3.8.10 64-bit ('env': venv)",
   "name": "python3"
  },
  "language_info": {
   "name": "python",
   "version": ""
  },
  "orig_nbformat": 4
 },
 "nbformat": 4,
 "nbformat_minor": 2
}